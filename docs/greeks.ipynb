{
 "cells": [
  {
   "cell_type": "markdown",
   "metadata": {},
   "source": [
    "# Greeks\n",
    "\n",
    "- オプションの感応度を示す\n",
    "- ブラックショールズモデルでリスクを管理する場合に重要\n",
    "- jquants-derivativesの `Option` クラスではGreeksを自動で算出\n",
    "- jquants-derivativesの `bsm` モジュールの関数から算出できる"
   ]
  },
  {
   "cell_type": "code",
   "execution_count": 1,
   "metadata": {},
   "outputs": [
    {
     "data": {
      "text/html": [
       "<div>\n",
       "<style scoped>\n",
       "    .dataframe tbody tr th:only-of-type {\n",
       "        vertical-align: middle;\n",
       "    }\n",
       "\n",
       "    .dataframe tbody tr th {\n",
       "        vertical-align: top;\n",
       "    }\n",
       "\n",
       "    .dataframe thead th {\n",
       "        text-align: right;\n",
       "    }\n",
       "</style>\n",
       "<table border=\"1\" class=\"dataframe\">\n",
       "  <thead>\n",
       "    <tr style=\"text-align: right;\">\n",
       "      <th></th>\n",
       "      <th>ContractMonth</th>\n",
       "      <th>PutCallDivision</th>\n",
       "      <th>ImpliedVolatility</th>\n",
       "      <th>Delta</th>\n",
       "      <th>Gamma</th>\n",
       "      <th>Vega</th>\n",
       "      <th>Theta</th>\n",
       "    </tr>\n",
       "    <tr>\n",
       "      <th>StrikePrice</th>\n",
       "      <th></th>\n",
       "      <th></th>\n",
       "      <th></th>\n",
       "      <th></th>\n",
       "      <th></th>\n",
       "      <th></th>\n",
       "      <th></th>\n",
       "    </tr>\n",
       "  </thead>\n",
       "  <tbody>\n",
       "    <tr>\n",
       "      <th>29875.0</th>\n",
       "      <td>2023-10</td>\n",
       "      <td>1</td>\n",
       "      <td>0.350805</td>\n",
       "      <td>-0.000147</td>\n",
       "      <td>9.692271e-07</td>\n",
       "      <td>0.950109</td>\n",
       "      <td>-60.829758</td>\n",
       "    </tr>\n",
       "    <tr>\n",
       "      <th>30000.0</th>\n",
       "      <td>2023-10</td>\n",
       "      <td>1</td>\n",
       "      <td>0.348172</td>\n",
       "      <td>-0.000315</td>\n",
       "      <td>1.987275e-06</td>\n",
       "      <td>1.933454</td>\n",
       "      <td>-122.858584</td>\n",
       "    </tr>\n",
       "    <tr>\n",
       "      <th>30125.0</th>\n",
       "      <td>2023-10</td>\n",
       "      <td>1</td>\n",
       "      <td>0.338429</td>\n",
       "      <td>-0.000516</td>\n",
       "      <td>3.233426e-06</td>\n",
       "      <td>3.057825</td>\n",
       "      <td>-188.868239</td>\n",
       "    </tr>\n",
       "    <tr>\n",
       "      <th>30250.0</th>\n",
       "      <td>2023-10</td>\n",
       "      <td>1</td>\n",
       "      <td>0.323312</td>\n",
       "      <td>-0.000712</td>\n",
       "      <td>4.558950e-06</td>\n",
       "      <td>4.118781</td>\n",
       "      <td>-243.035908</td>\n",
       "    </tr>\n",
       "    <tr>\n",
       "      <th>30375.0</th>\n",
       "      <td>2023-10</td>\n",
       "      <td>1</td>\n",
       "      <td>0.314012</td>\n",
       "      <td>-0.001212</td>\n",
       "      <td>7.648356e-06</td>\n",
       "      <td>6.711141</td>\n",
       "      <td>-384.612871</td>\n",
       "    </tr>\n",
       "    <tr>\n",
       "      <th>30500.0</th>\n",
       "      <td>2023-10</td>\n",
       "      <td>1</td>\n",
       "      <td>0.301499</td>\n",
       "      <td>-0.001879</td>\n",
       "      <td>1.188841e-05</td>\n",
       "      <td>10.015938</td>\n",
       "      <td>-551.137825</td>\n",
       "    </tr>\n",
       "    <tr>\n",
       "      <th>30625.0</th>\n",
       "      <td>2023-10</td>\n",
       "      <td>1</td>\n",
       "      <td>0.293883</td>\n",
       "      <td>-0.003399</td>\n",
       "      <td>2.084054e-05</td>\n",
       "      <td>17.114551</td>\n",
       "      <td>-917.961381</td>\n",
       "    </tr>\n",
       "    <tr>\n",
       "      <th>30750.0</th>\n",
       "      <td>2023-10</td>\n",
       "      <td>1</td>\n",
       "      <td>0.281867</td>\n",
       "      <td>-0.005461</td>\n",
       "      <td>3.319295e-05</td>\n",
       "      <td>26.144003</td>\n",
       "      <td>-1344.939733</td>\n",
       "    </tr>\n",
       "    <tr>\n",
       "      <th>30875.0</th>\n",
       "      <td>2023-10</td>\n",
       "      <td>1</td>\n",
       "      <td>0.266672</td>\n",
       "      <td>-0.008225</td>\n",
       "      <td>5.038669e-05</td>\n",
       "      <td>37.547001</td>\n",
       "      <td>-1827.434184</td>\n",
       "    </tr>\n",
       "    <tr>\n",
       "      <th>31000.0</th>\n",
       "      <td>2023-10</td>\n",
       "      <td>1</td>\n",
       "      <td>0.263654</td>\n",
       "      <td>-0.016451</td>\n",
       "      <td>9.300819e-05</td>\n",
       "      <td>68.523193</td>\n",
       "      <td>-3297.341127</td>\n",
       "    </tr>\n",
       "    <tr>\n",
       "      <th>31125.0</th>\n",
       "      <td>2023-10</td>\n",
       "      <td>1</td>\n",
       "      <td>0.253250</td>\n",
       "      <td>-0.027633</td>\n",
       "      <td>1.501084e-04</td>\n",
       "      <td>106.227404</td>\n",
       "      <td>-4910.002037</td>\n",
       "    </tr>\n",
       "    <tr>\n",
       "      <th>31250.0</th>\n",
       "      <td>2023-10</td>\n",
       "      <td>1</td>\n",
       "      <td>0.246600</td>\n",
       "      <td>-0.048698</td>\n",
       "      <td>2.449787e-04</td>\n",
       "      <td>168.812032</td>\n",
       "      <td>-7597.954446</td>\n",
       "    </tr>\n",
       "    <tr>\n",
       "      <th>31375.0</th>\n",
       "      <td>2023-10</td>\n",
       "      <td>1</td>\n",
       "      <td>0.241754</td>\n",
       "      <td>-0.084550</td>\n",
       "      <td>3.835215e-04</td>\n",
       "      <td>259.086859</td>\n",
       "      <td>-11432.074205</td>\n",
       "    </tr>\n",
       "    <tr>\n",
       "      <th>31500.0</th>\n",
       "      <td>2023-10</td>\n",
       "      <td>1</td>\n",
       "      <td>0.234446</td>\n",
       "      <td>-0.137073</td>\n",
       "      <td>5.598146e-04</td>\n",
       "      <td>366.749134</td>\n",
       "      <td>-15693.713829</td>\n",
       "    </tr>\n",
       "    <tr>\n",
       "      <th>31625.0</th>\n",
       "      <td>2023-10</td>\n",
       "      <td>1</td>\n",
       "      <td>0.230077</td>\n",
       "      <td>-0.216157</td>\n",
       "      <td>7.620851e-04</td>\n",
       "      <td>489.957856</td>\n",
       "      <td>-20575.770473</td>\n",
       "    </tr>\n",
       "    <tr>\n",
       "      <th>31750.0</th>\n",
       "      <td>2023-10</td>\n",
       "      <td>1</td>\n",
       "      <td>0.223528</td>\n",
       "      <td>-0.318915</td>\n",
       "      <td>9.556948e-04</td>\n",
       "      <td>596.943493</td>\n",
       "      <td>-24355.917356</td>\n",
       "    </tr>\n",
       "    <tr>\n",
       "      <th>31875.0</th>\n",
       "      <td>2023-10</td>\n",
       "      <td>1</td>\n",
       "      <td>0.216780</td>\n",
       "      <td>-0.444828</td>\n",
       "      <td>1.090360e-03</td>\n",
       "      <td>660.497733</td>\n",
       "      <td>-26136.829068</td>\n",
       "    </tr>\n",
       "    <tr>\n",
       "      <th>32000.0</th>\n",
       "      <td>2023-10</td>\n",
       "      <td>2</td>\n",
       "      <td>0.190667</td>\n",
       "      <td>0.406757</td>\n",
       "      <td>1.217335e-03</td>\n",
       "      <td>648.585927</td>\n",
       "      <td>-22563.278697</td>\n",
       "    </tr>\n",
       "    <tr>\n",
       "      <th>32125.0</th>\n",
       "      <td>2023-10</td>\n",
       "      <td>2</td>\n",
       "      <td>0.185425</td>\n",
       "      <td>0.259615</td>\n",
       "      <td>1.045665e-03</td>\n",
       "      <td>541.805110</td>\n",
       "      <td>-18331.274729</td>\n",
       "    </tr>\n",
       "    <tr>\n",
       "      <th>32250.0</th>\n",
       "      <td>2023-10</td>\n",
       "      <td>2</td>\n",
       "      <td>0.191245</td>\n",
       "      <td>0.155632</td>\n",
       "      <td>7.473729e-04</td>\n",
       "      <td>399.401303</td>\n",
       "      <td>-13937.923241</td>\n",
       "    </tr>\n",
       "    <tr>\n",
       "      <th>32375.0</th>\n",
       "      <td>2023-10</td>\n",
       "      <td>2</td>\n",
       "      <td>0.191847</td>\n",
       "      <td>0.081568</td>\n",
       "      <td>4.704141e-04</td>\n",
       "      <td>252.183898</td>\n",
       "      <td>-8828.398693</td>\n",
       "    </tr>\n",
       "    <tr>\n",
       "      <th>32500.0</th>\n",
       "      <td>2023-10</td>\n",
       "      <td>2</td>\n",
       "      <td>0.189492</td>\n",
       "      <td>0.035884</td>\n",
       "      <td>2.489799e-04</td>\n",
       "      <td>131.836956</td>\n",
       "      <td>-4558.746874</td>\n",
       "    </tr>\n",
       "    <tr>\n",
       "      <th>32625.0</th>\n",
       "      <td>2023-10</td>\n",
       "      <td>2</td>\n",
       "      <td>0.180099</td>\n",
       "      <td>0.010661</td>\n",
       "      <td>9.361247e-05</td>\n",
       "      <td>47.111513</td>\n",
       "      <td>-1548.322575</td>\n",
       "    </tr>\n",
       "    <tr>\n",
       "      <th>32750.0</th>\n",
       "      <td>2023-10</td>\n",
       "      <td>2</td>\n",
       "      <td>0.191625</td>\n",
       "      <td>0.005473</td>\n",
       "      <td>4.892067e-05</td>\n",
       "      <td>26.195494</td>\n",
       "      <td>-916.024540</td>\n",
       "    </tr>\n",
       "    <tr>\n",
       "      <th>32875.0</th>\n",
       "      <td>2023-10</td>\n",
       "      <td>2</td>\n",
       "      <td>0.202941</td>\n",
       "      <td>0.002885</td>\n",
       "      <td>2.603418e-05</td>\n",
       "      <td>14.763719</td>\n",
       "      <td>-546.761549</td>\n",
       "    </tr>\n",
       "    <tr>\n",
       "      <th>33000.0</th>\n",
       "      <td>2023-10</td>\n",
       "      <td>2</td>\n",
       "      <td>0.196674</td>\n",
       "      <td>0.000646</td>\n",
       "      <td>6.854532e-06</td>\n",
       "      <td>3.767097</td>\n",
       "      <td>-135.203821</td>\n",
       "    </tr>\n",
       "    <tr>\n",
       "      <th>33125.0</th>\n",
       "      <td>2023-10</td>\n",
       "      <td>2</td>\n",
       "      <td>0.214582</td>\n",
       "      <td>0.000510</td>\n",
       "      <td>5.049644e-06</td>\n",
       "      <td>3.027862</td>\n",
       "      <td>-118.567978</td>\n",
       "    </tr>\n",
       "    <tr>\n",
       "      <th>33250.0</th>\n",
       "      <td>2023-10</td>\n",
       "      <td>2</td>\n",
       "      <td>0.235396</td>\n",
       "      <td>0.000485</td>\n",
       "      <td>4.392793e-06</td>\n",
       "      <td>2.889495</td>\n",
       "      <td>-124.125573</td>\n",
       "    </tr>\n",
       "    <tr>\n",
       "      <th>33375.0</th>\n",
       "      <td>2023-10</td>\n",
       "      <td>2</td>\n",
       "      <td>0.251585</td>\n",
       "      <td>0.000375</td>\n",
       "      <td>3.234436e-06</td>\n",
       "      <td>2.273869</td>\n",
       "      <td>-104.398013</td>\n",
       "    </tr>\n",
       "  </tbody>\n",
       "</table>\n",
       "</div>"
      ],
      "text/plain": [
       "            ContractMonth  PutCallDivision  ImpliedVolatility     Delta  \\\n",
       "StrikePrice                                                               \n",
       "29875.0           2023-10                1           0.350805 -0.000147   \n",
       "30000.0           2023-10                1           0.348172 -0.000315   \n",
       "30125.0           2023-10                1           0.338429 -0.000516   \n",
       "30250.0           2023-10                1           0.323312 -0.000712   \n",
       "30375.0           2023-10                1           0.314012 -0.001212   \n",
       "30500.0           2023-10                1           0.301499 -0.001879   \n",
       "30625.0           2023-10                1           0.293883 -0.003399   \n",
       "30750.0           2023-10                1           0.281867 -0.005461   \n",
       "30875.0           2023-10                1           0.266672 -0.008225   \n",
       "31000.0           2023-10                1           0.263654 -0.016451   \n",
       "31125.0           2023-10                1           0.253250 -0.027633   \n",
       "31250.0           2023-10                1           0.246600 -0.048698   \n",
       "31375.0           2023-10                1           0.241754 -0.084550   \n",
       "31500.0           2023-10                1           0.234446 -0.137073   \n",
       "31625.0           2023-10                1           0.230077 -0.216157   \n",
       "31750.0           2023-10                1           0.223528 -0.318915   \n",
       "31875.0           2023-10                1           0.216780 -0.444828   \n",
       "32000.0           2023-10                2           0.190667  0.406757   \n",
       "32125.0           2023-10                2           0.185425  0.259615   \n",
       "32250.0           2023-10                2           0.191245  0.155632   \n",
       "32375.0           2023-10                2           0.191847  0.081568   \n",
       "32500.0           2023-10                2           0.189492  0.035884   \n",
       "32625.0           2023-10                2           0.180099  0.010661   \n",
       "32750.0           2023-10                2           0.191625  0.005473   \n",
       "32875.0           2023-10                2           0.202941  0.002885   \n",
       "33000.0           2023-10                2           0.196674  0.000646   \n",
       "33125.0           2023-10                2           0.214582  0.000510   \n",
       "33250.0           2023-10                2           0.235396  0.000485   \n",
       "33375.0           2023-10                2           0.251585  0.000375   \n",
       "\n",
       "                    Gamma        Vega         Theta  \n",
       "StrikePrice                                          \n",
       "29875.0      9.692271e-07    0.950109    -60.829758  \n",
       "30000.0      1.987275e-06    1.933454   -122.858584  \n",
       "30125.0      3.233426e-06    3.057825   -188.868239  \n",
       "30250.0      4.558950e-06    4.118781   -243.035908  \n",
       "30375.0      7.648356e-06    6.711141   -384.612871  \n",
       "30500.0      1.188841e-05   10.015938   -551.137825  \n",
       "30625.0      2.084054e-05   17.114551   -917.961381  \n",
       "30750.0      3.319295e-05   26.144003  -1344.939733  \n",
       "30875.0      5.038669e-05   37.547001  -1827.434184  \n",
       "31000.0      9.300819e-05   68.523193  -3297.341127  \n",
       "31125.0      1.501084e-04  106.227404  -4910.002037  \n",
       "31250.0      2.449787e-04  168.812032  -7597.954446  \n",
       "31375.0      3.835215e-04  259.086859 -11432.074205  \n",
       "31500.0      5.598146e-04  366.749134 -15693.713829  \n",
       "31625.0      7.620851e-04  489.957856 -20575.770473  \n",
       "31750.0      9.556948e-04  596.943493 -24355.917356  \n",
       "31875.0      1.090360e-03  660.497733 -26136.829068  \n",
       "32000.0      1.217335e-03  648.585927 -22563.278697  \n",
       "32125.0      1.045665e-03  541.805110 -18331.274729  \n",
       "32250.0      7.473729e-04  399.401303 -13937.923241  \n",
       "32375.0      4.704141e-04  252.183898  -8828.398693  \n",
       "32500.0      2.489799e-04  131.836956  -4558.746874  \n",
       "32625.0      9.361247e-05   47.111513  -1548.322575  \n",
       "32750.0      4.892067e-05   26.195494   -916.024540  \n",
       "32875.0      2.603418e-05   14.763719   -546.761549  \n",
       "33000.0      6.854532e-06    3.767097   -135.203821  \n",
       "33125.0      5.049644e-06    3.027862   -118.567978  \n",
       "33250.0      4.392793e-06    2.889495   -124.125573  \n",
       "33375.0      3.234436e-06    2.273869   -104.398013  "
      ]
     },
     "execution_count": 1,
     "metadata": {},
     "output_type": "execute_result"
    }
   ],
   "source": [
    "from jquants_derivatives import Client, Option, bsm\n",
    "\n",
    "option = Option(Client().get_option_index_option(\"2023-10-11\"))\n",
    "contract_month = option.contract_month[0]\n",
    "greeks = (\n",
    "    option.contracts_dfs[contract_month]\n",
    "    .loc[\n",
    "        :,\n",
    "        [\n",
    "            \"ContractMonth\",\n",
    "            \"PutCallDivision\",\n",
    "            \"StrikePrice\",\n",
    "            \"ImpliedVolatility\",\n",
    "            \"Delta\",\n",
    "            \"Gamma\",\n",
    "            \"Vega\",\n",
    "            \"Theta\",\n",
    "        ],\n",
    "    ]\n",
    "    .set_index(\"StrikePrice\")\n",
    ")\n",
    "greeks"
   ]
  },
  {
   "cell_type": "code",
   "execution_count": 2,
   "metadata": {},
   "outputs": [
    {
     "name": "stdout",
     "output_type": "stream",
     "text": [
      "s=31936.51, t=0.0027397260273972603, r=-0.00041799999999999997\n"
     ]
    }
   ],
   "source": [
    "s = option.underlying_price[contract_month]\n",
    "t = option.time_to_maturity[contract_month]\n",
    "r = option.interest_rate[contract_month] * 0.01\n",
    "print(f\"{s=}, {t=}, {r=}\")"
   ]
  },
  {
   "cell_type": "code",
   "execution_count": 3,
   "metadata": {},
   "outputs": [
    {
     "name": "stdout",
     "output_type": "stream",
     "text": [
      "k=32125, sigma=0.185425\n"
     ]
    }
   ],
   "source": [
    "k = 32125\n",
    "sigma = greeks.loc[k, \"ImpliedVolatility\"]\n",
    "print(f\"{k=}, {sigma=}\")"
   ]
  },
  {
   "cell_type": "markdown",
   "metadata": {},
   "source": [
    "## Delta\n",
    "\n",
    "$$\\Delta = \\frac{\\partial V}{\\partial S}$$\n",
    "\n",
    "- 原資産価格の変動に対する感度\n",
    "- Delta=0.5のコールオプションで、原資産価格が100上昇すると、オプション価格は50上昇する"
   ]
  },
  {
   "cell_type": "code",
   "execution_count": 4,
   "metadata": {},
   "outputs": [
    {
     "data": {
      "text/plain": [
       "0.2596148409950075"
      ]
     },
     "execution_count": 4,
     "metadata": {},
     "output_type": "execute_result"
    }
   ],
   "source": [
    "bsm.delta_call(s, k, t, r, sigma)"
   ]
  },
  {
   "cell_type": "code",
   "execution_count": 5,
   "metadata": {},
   "outputs": [
    {
     "data": {
      "text/plain": [
       "-0.7403851590049926"
      ]
     },
     "execution_count": 5,
     "metadata": {},
     "output_type": "execute_result"
    }
   ],
   "source": [
    "bsm.delta_put(s, k, t, r, sigma)"
   ]
  },
  {
   "cell_type": "markdown",
   "metadata": {},
   "source": [
    "### Gamma\n",
    "\n",
    "$$\\Gamma = \\frac{\\partial \\Delta}{\\partial S} = \\frac{\\partial^2 V}{\\partial S^2}$$\n",
    "\n",
    "- 原資産価格の変動に対するDeltaへの感度\n",
    "- Gamma=0.0002のオプションで、原資産価格が100上昇すると、デルタは0.02上昇する"
   ]
  },
  {
   "cell_type": "code",
   "execution_count": 7,
   "metadata": {},
   "outputs": [
    {
     "data": {
      "text/plain": [
       "0.001045665462371926"
      ]
     },
     "execution_count": 7,
     "metadata": {},
     "output_type": "execute_result"
    }
   ],
   "source": [
    "bsm.gamma(s, k, t, r, sigma)"
   ]
  },
  {
   "cell_type": "markdown",
   "metadata": {},
   "source": [
    "### Vega\n",
    "\n",
    "$$\\mathcal{V}=\\frac{\\partial V}{\\partial \\sigma}$$\n",
    "\n",
    "-  ボラティリティの変動に対する感度\n",
    "- Vega=2000のオプションで、ボラティリティが0.01(例: 14%から15%)上昇すると、オプション価格は20上昇する"
   ]
  },
  {
   "cell_type": "code",
   "execution_count": 8,
   "metadata": {},
   "outputs": [
    {
     "data": {
      "text/plain": [
       "541.8051103409326"
      ]
     },
     "execution_count": 8,
     "metadata": {},
     "output_type": "execute_result"
    }
   ],
   "source": [
    "bsm.vega(s, k, t, r, sigma)"
   ]
  },
  {
   "cell_type": "markdown",
   "metadata": {},
   "source": [
    "### Theta\n",
    "\n",
    "$$\\Theta = -\\frac{\\partial V}{\\partial \\tau}$$\n",
    "\n",
    "-  時間の経過に対する感度\n",
    "- Theta=-3000のオプションで、1日（1/365）経過すると、オプション価格は8.2下落する"
   ]
  },
  {
   "cell_type": "code",
   "execution_count": 8,
   "metadata": {},
   "outputs": [
    {
     "data": {
      "text/plain": [
       "-18331.27472920579"
      ]
     },
     "execution_count": 8,
     "metadata": {},
     "output_type": "execute_result"
    }
   ],
   "source": [
    "bsm.theta_call(s, k, t, r, sigma)"
   ]
  },
  {
   "cell_type": "code",
   "execution_count": 9,
   "metadata": {},
   "outputs": [
    {
     "data": {
      "text/plain": [
       "-18344.702994583902"
      ]
     },
     "execution_count": 9,
     "metadata": {},
     "output_type": "execute_result"
    }
   ],
   "source": [
    "bsm.theta_put(s, k, t, r, sigma)"
   ]
  }
 ],
 "metadata": {
  "kernelspec": {
   "display_name": "Python 3 (ipykernel)",
   "language": "python",
   "name": "python3"
  },
  "language_info": {
   "codemirror_mode": {
    "name": "ipython",
    "version": 3
   },
   "file_extension": ".py",
   "mimetype": "text/x-python",
   "name": "python",
   "nbconvert_exporter": "python",
   "pygments_lexer": "ipython3",
   "version": "3.11.5"
  }
 },
 "nbformat": 4,
 "nbformat_minor": 4
}
