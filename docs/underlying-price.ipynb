{
 "cells": [
  {
   "cell_type": "markdown",
   "metadata": {},
   "source": [
    "# 原資産価格の算出\n",
    "\n",
    "- 日経225オプションは日経平均株価が原資産価格\n",
    "- J-Quants APIでは日経225指数の当日の終値が入力されている [^1]\n",
    "- 日経225オプションの場合、当限月の先物（mini）の価格を使うのが望ましい\n",
    "    - 指数そのままでは、配当落ちが考慮されていない\n",
    "- J-Quants APIでは先物のデータが提供されていない（2023年10月時点）ので、オプションの価格から原資産価格を算出\n",
    "\n",
    "[^1]: [J-Quants API Quick Startガイド](https://github.com/J-Quants/event/blob/main/20230921/20230921_jquants_option_data.ipynb)"
   ]
  },
  {
   "cell_type": "markdown",
   "metadata": {},
   "source": [
    "\n",
    "\n",
    "## プットコールパリティ\n",
    "\n",
    "$$C(t) - P(t) = S(t)- K \\cdot e^{-r(T-t)}$$\n",
    "\n",
    "- $C(t)$ : コール価格\n",
    "- $P(t)$ : プット価格\n",
    "- $S(t)$ : 原資産価格\n",
    "- $K$ : 権利行使価格\n",
    "- $r$ : 無リスク金利\n",
    "- $T-t$ : 満期までの期間\n",
    "\n",
    "> https://en.wikipedia.org/wiki/Put%E2%80%93call_parity"
   ]
  },
  {
   "cell_type": "markdown",
   "metadata": {},
   "source": [
    "J-Quants APIから提供されている原資産価格を確認"
   ]
  },
  {
   "cell_type": "code",
   "execution_count": 1,
   "metadata": {},
   "outputs": [
    {
     "data": {
      "text/plain": [
       "ContractMonth\n",
       "2023-02    [27402.05]\n",
       "2023-03    [27402.05]\n",
       "2023-04    [27402.05]\n",
       "2023-05    [27402.05]\n",
       "2023-06    [27402.05]\n",
       "2023-07    [27402.05]\n",
       "2023-08    [27402.05]\n",
       "2023-09    [27402.05]\n",
       "2023-10    [27402.05]\n",
       "2023-12    [27402.05]\n",
       "2024-03    [27402.05]\n",
       "2024-06    [27402.05]\n",
       "2024-12    [27402.05]\n",
       "2025-06    [27402.05]\n",
       "2025-12    [27402.05]\n",
       "2026-06    [27402.05]\n",
       "2026-12    [27402.05]\n",
       "2027-06    [27402.05]\n",
       "2027-12    [27402.05]\n",
       "2028-06    [27402.05]\n",
       "2028-12    [27402.05]\n",
       "2029-06    [27402.05]\n",
       "2029-12    [27402.05]\n",
       "2030-06    [27402.05]\n",
       "2030-12    [27402.05]\n",
       "Name: UnderlyingPrice, dtype: object"
      ]
     },
     "execution_count": 1,
     "metadata": {},
     "output_type": "execute_result"
    }
   ],
   "source": [
    "import jquants_derivatives\n",
    "\n",
    "date = \"2023-02-02\"\n",
    "cli = jquants_derivatives.Client()\n",
    "df = cli.get_option_index_option(date)\n",
    "groupby_contract_month = df.groupby(\"ContractMonth\")\n",
    "groupby_contract_month[\"UnderlyingPrice\"].unique()"
   ]
  },
  {
   "cell_type": "code",
   "execution_count": 2,
   "metadata": {},
   "outputs": [],
   "source": [
    "# 2023-02のDataFrame\n",
    "df_202302 = (\n",
    "    df.groupby(\"ContractMonth\")\n",
    "    .get_group(\"2023-02\")\n",
    "    .set_index(\"StrikePrice\", drop=False)\n",
    ")\n",
    "# 2023-03のDataFrame\n",
    "df_202303 = (\n",
    "    df.groupby(\"ContractMonth\")\n",
    "    .get_group(\"2023-03\")\n",
    "    .set_index(\"StrikePrice\", drop=False)\n",
    ")\n",
    "# プットとコールにDataFrameを分割\n",
    "groupby_put_call_div_202302 = df_202302.groupby(\"PutCallDivision\")\n",
    "groupby_put_call_div_202303 = df_202303.groupby(\"PutCallDivision\")\n",
    "put_202302 = groupby_put_call_div_202302.get_group(1)\n",
    "call_202302 = groupby_put_call_div_202302.get_group(2)\n",
    "put_202303 = groupby_put_call_div_202303.get_group(1)\n",
    "call_202303 = groupby_put_call_div_202303.get_group(2)\n",
    "s_202302 = df_202302.loc[:, \"UnderlyingPrice\"].iloc[0]\n",
    "s_202303 = df_202303.loc[:, \"UnderlyingPrice\"].iloc[0]"
   ]
  },
  {
   "cell_type": "markdown",
   "metadata": {},
   "source": [
    "J-Quants APIから提供されている原資産価格"
   ]
  },
  {
   "cell_type": "code",
   "execution_count": 3,
   "metadata": {},
   "outputs": [
    {
     "name": "stdout",
     "output_type": "stream",
     "text": [
      "s_202302=27402.05, s_202303=27402.05\n"
     ]
    }
   ],
   "source": [
    "print(f\"{s_202302=}, {s_202303=}\")"
   ]
  },
  {
   "cell_type": "markdown",
   "metadata": {},
   "source": [
    "### 無リスク金利\n",
    "\n",
    "[J-Quants API Quick Startガイド](https://github.com/J-Quants/event/blob/main/20230921/20230921_jquants_option_data.ipynb) より\n",
    "\n",
    "> 理論価格計算用金利（Interest Rate）  \n",
    "> [参考URL](https://www.jpx.co.jp/ose-toshijuku/column/futures_option/option/03.html)\n",
    "> \n",
    "> 理論価格を計算する際に使用している金利であり、全銀協の日本円TIBORレートを使用しています。  \n",
    "> それぞれの限月に応じ、３か月や６か月金利等を使用しています。  "
   ]
  },
  {
   "cell_type": "code",
   "execution_count": 4,
   "metadata": {},
   "outputs": [
    {
     "name": "stdout",
     "output_type": "stream",
     "text": [
      "r_202302=-0.000391, r_202303=0.000518\n"
     ]
    }
   ],
   "source": [
    "# 2023-02、2023-03の無リスク金利\n",
    "r_202302 = df_202302.loc[:, \"InterestRate\"].unique()[0] * 0.01\n",
    "r_202303 = df_202303.loc[:, \"InterestRate\"].unique()[0] * 0.01\n",
    "print(f\"{r_202302=}, {r_202303=}\")"
   ]
  },
  {
   "cell_type": "markdown",
   "metadata": {},
   "source": [
    "### 満期までの期間\n",
    "\n",
    "- SQ日（LastTradingDay） $T$ から当日 $t$ を引いて、年に変換\n",
    "- ここでは、1年を365日とする\n",
    "    - 休日を除いて250日などにする場合もある"
   ]
  },
  {
   "cell_type": "code",
   "execution_count": 5,
   "metadata": {},
   "outputs": [
    {
     "name": "stdout",
     "output_type": "stream",
     "text": [
      "t_202302=0.019178082191780823, t_202303=0.0958904109589041\n"
     ]
    }
   ],
   "source": [
    "import pandas as pd\n",
    "\n",
    "YEAR_TO_SECONDS = 31_536_000\n",
    "t_202302 = (\n",
    "    df_202302.loc[:, \"LastTradingDay\"].iloc[0] - pd.Timestamp(date)\n",
    ").total_seconds() / YEAR_TO_SECONDS\n",
    "t_202303 = (\n",
    "    df_202303.loc[:, \"LastTradingDay\"].iloc[0] - pd.Timestamp(date)\n",
    ").total_seconds() / YEAR_TO_SECONDS\n",
    "print(f\"{t_202302=}, {t_202303=}\")"
   ]
  },
  {
   "cell_type": "markdown",
   "metadata": {},
   "source": [
    "### ATM"
   ]
  },
  {
   "cell_type": "code",
   "execution_count": 6,
   "metadata": {},
   "outputs": [
    {
     "name": "stdout",
     "output_type": "stream",
     "text": [
      "s_202302=27402.05, s_202303=27402.05\n",
      "atm_202302=27375.0, atm_202303=27375.0\n"
     ]
    }
   ],
   "source": [
    "atm_202302 = abs(df_202302.loc[:, \"StrikePrice\"] - s_202302).idxmin()\n",
    "atm_202303 = abs(df_202303.loc[:, \"StrikePrice\"] - s_202303).idxmin()\n",
    "print(f\"{s_202302=}, {s_202303=}\")\n",
    "print(f\"{atm_202302=}, {atm_202303=}\")"
   ]
  },
  {
   "cell_type": "markdown",
   "metadata": {},
   "source": [
    "ATMのプット価格、コール価格\n",
    "\n",
    "理論上ではどの権利行使価格からも求められるが、ATMから離れた権利行使価格はITM側の流動性がなくなり、価格を得にくい"
   ]
  },
  {
   "cell_type": "code",
   "execution_count": 7,
   "metadata": {},
   "outputs": [
    {
     "name": "stdout",
     "output_type": "stream",
     "text": [
      "atm_put_202302=225.0, atm_call_202302=270.0, atm_put_202303=500.0, atm_call_202303=515.0\n"
     ]
    }
   ],
   "source": [
    "atm_put_202302 = put_202302.loc[atm_202302, \"WholeDayClose\"]\n",
    "atm_call_202302 = call_202302.loc[atm_202302, \"WholeDayClose\"]\n",
    "atm_put_202303 = put_202303.loc[atm_202303, \"WholeDayClose\"]\n",
    "atm_call_202303 = call_202303.loc[atm_202303, \"WholeDayClose\"]\n",
    "print(f\"{atm_put_202302=}, {atm_call_202302=}, {atm_put_202303=}, {atm_call_202303=}\")"
   ]
  },
  {
   "cell_type": "markdown",
   "metadata": {},
   "source": [
    "$$C(t) - P(t) = S(t) - K \\cdot e^{-r(T-t)}$$\n",
    "\n",
    "から $S(t)$ を求める\n",
    "\n",
    "$$S(t) = C(t) - P(t) + K \\cdot e^{-r(T-t)}$$"
   ]
  },
  {
   "cell_type": "code",
   "execution_count": 9,
   "metadata": {},
   "outputs": [
    {
     "name": "stdout",
     "output_type": "stream",
     "text": [
      "s_202302=27402.05, calculated_s_202302=27420.205275769644\n",
      "s_202303=27402.05, calculated_s_202303=27388.64028376967\n"
     ]
    }
   ],
   "source": [
    "import numpy as np\n",
    "\n",
    "calculated_s_202302 = (\n",
    "    atm_call_202302 - atm_put_202302 + atm_202302 * np.exp(-r_202302 * t_202302)\n",
    ")\n",
    "calculated_s_202303 = (\n",
    "    atm_call_202303 - atm_put_202303 + atm_202303 * np.exp(-r_202303 * t_202303)\n",
    ")\n",
    "print(f\"{s_202302=}, {calculated_s_202302=}\")\n",
    "print(f\"{s_202303=}, {calculated_s_202303=}\")"
   ]
  },
  {
   "cell_type": "markdown",
   "metadata": {},
   "source": [
    "- jquants-derivativesではJ-Quants APIから提供している原資産価格をそのまま利用\n",
    "- 将来的に先物価格が提供されれた場合は、置き換える可能性あり"
   ]
  },
  {
   "cell_type": "code",
   "execution_count": 10,
   "metadata": {},
   "outputs": [
    {
     "data": {
      "text/plain": [
       "{'2023-02': 27402.05, '2023-03': 27402.05}"
      ]
     },
     "execution_count": 10,
     "metadata": {},
     "output_type": "execute_result"
    }
   ],
   "source": [
    "from jquants_derivatives import Option\n",
    "\n",
    "option = Option(df)\n",
    "option.underlying_price"
   ]
  }
 ],
 "metadata": {
  "kernelspec": {
   "display_name": "Python 3 (ipykernel)",
   "language": "python",
   "name": "python3"
  },
  "language_info": {
   "codemirror_mode": {
    "name": "ipython",
    "version": 3
   },
   "file_extension": ".py",
   "mimetype": "text/x-python",
   "name": "python",
   "nbconvert_exporter": "python",
   "pygments_lexer": "ipython3",
   "version": "3.11.5"
  }
 },
 "nbformat": 4,
 "nbformat_minor": 4
}
